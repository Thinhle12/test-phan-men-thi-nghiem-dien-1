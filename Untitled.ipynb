{
 "cells": [
  {
   "cell_type": "code",
   "execution_count": 75,
   "id": "9cf9e236-62c8-4b48-8fc1-a6ea0b07bea9",
   "metadata": {},
   "outputs": [
    {
     "name": "stdin",
     "output_type": "stream",
     "text": [
      "Nhập các ký tự mà bạn muốn xóa bảng chứa chúng, cách nhau bởi khoảng trắng (ví dụ: k1 k2 k3):  k1\n"
     ]
    },
    {
     "name": "stdout",
     "output_type": "stream",
     "text": [
      "Đã xóa các bảng chứa các ký tự đặc biệt. Kết quả được lưu vào 'output.docx'.\n"
     ]
    }
   ],
   "source": [
    "import re\n",
    "from docx import Document\n",
    "\n",
    "# Hàm xóa các bảng chứa ký tự đặc biệt\n",
    "def remove_tables_with_custom_tags(input_file, output_file, user_tags):\n",
    "    # Mở file Word\n",
    "    doc = Document(input_file)\n",
    "\n",
    "    # Biểu thức chính quy để tìm các tag bất kỳ dạng /kx\n",
    "    tag_pattern = re.compile(r'/\\d+|/k\\d+|k\\d+/')\n",
    "\n",
    "    # Duyệt qua từng bảng trong tài liệu và đánh dấu các bảng cần xóa\n",
    "    tables_to_delete = []\n",
    "    \n",
    "    for table in doc.tables:\n",
    "        # Kiểm tra nếu bảng có ít nhất một hàng\n",
    "        if not table.rows:\n",
    "            continue\n",
    "\n",
    "        # Lấy hàng đầu tiên trong bảng\n",
    "        first_row = table.rows[0]\n",
    "        first_row_text = ' '.join(cell.text for cell in first_row.cells)  # Ghép nội dung của tất cả các ô trong hàng đầu tiên\n",
    "\n",
    "        # Kiểm tra nếu hàng đầu tiên chứa cặp tag mà người dùng nhập vào\n",
    "        if tag_pattern.search(first_row_text):\n",
    "            # Nếu hàng đầu tiên chứa ký tự đặc biệt cần xóa, thêm bảng vào danh sách cần xóa\n",
    "            tables_to_delete.append(table)\n",
    "\n",
    "    # Xóa các bảng đã tìm thấy\n",
    "    for table in tables_to_delete:\n",
    "        table._element.getparent().remove(table._element)\n",
    "\n",
    "    # Lưu file kết quả\n",
    "    doc.save(output_file)\n",
    "\n",
    "# Nhập tên file đầu vào và file đầu ra\n",
    "input_file = 'input.docx'  # Tên file Word đầu vào\n",
    "output_file = 'output.docx'  # Tên file Word đầu ra\n",
    "\n",
    "# Nhập danh sách các tag mà người dùng muốn xóa bảng chứa chúng\n",
    "user_tags = input(\"Nhập các ký tự mà bạn muốn xóa bảng chứa chúng, cách nhau bởi khoảng trắng (ví dụ: k1 k2 k3): \").split()\n",
    "\n",
    "# Gọi hàm xử lý\n",
    "remove_tables_with_custom_tags(input_file, output_file, user_tags)\n",
    "\n",
    "print(f\"Đã xóa các bảng chứa các ký tự đặc biệt. Kết quả được lưu vào '{output_file}'.\")\n"
   ]
  },
  {
   "cell_type": "code",
   "execution_count": null,
   "id": "89a89554-b066-481b-8222-0608f82f41ed",
   "metadata": {},
   "outputs": [],
   "source": []
  }
 ],
 "metadata": {
  "kernelspec": {
   "display_name": "Python 3 (ipykernel)",
   "language": "python",
   "name": "python3"
  },
  "language_info": {
   "codemirror_mode": {
    "name": "ipython",
    "version": 3
   },
   "file_extension": ".py",
   "mimetype": "text/x-python",
   "name": "python",
   "nbconvert_exporter": "python",
   "pygments_lexer": "ipython3",
   "version": "3.11.7"
  }
 },
 "nbformat": 4,
 "nbformat_minor": 5
}
